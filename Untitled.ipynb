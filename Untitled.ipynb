{
 "cells": [
  {
   "cell_type": "code",
   "execution_count": 36,
   "metadata": {},
   "outputs": [],
   "source": [
    "from pathlib import Path\n",
    "import numpy as np\n",
    "import matplotlib.pyplot as plt"
   ]
  },
  {
   "cell_type": "code",
   "execution_count": 37,
   "metadata": {},
   "outputs": [
    {
     "data": {
      "text/plain": [
       "['results/exp_5/rand_1.npy',\n",
       " 'results/exp_5/rand_0.npy',\n",
       " 'results/exp_5/bald_4.npy',\n",
       " 'results/exp_5/rand_4.npy',\n",
       " 'results/exp_5/mc_0.npy',\n",
       " 'results/exp_5/mc_4.npy',\n",
       " 'results/exp_5/bald_3.npy',\n",
       " 'results/exp_5/mc_2.npy',\n",
       " 'results/exp_5/bald_0.npy',\n",
       " 'results/exp_5/rand_3.npy',\n",
       " 'results/exp_5/rand_2.npy',\n",
       " 'results/exp_5/mc_3.npy',\n",
       " 'results/exp_5/bald_1.npy',\n",
       " 'results/exp_5/mc_1.npy',\n",
       " 'results/exp_5/bald_2.npy']"
      ]
     },
     "execution_count": 37,
     "metadata": {},
     "output_type": "execute_result"
    }
   ],
   "source": [
    "results_dir = 'results/exp_5/'\n",
    "ext = 'npy'\n",
    "results_files = [str(path) for path in Path(results_dir).rglob('*.{}'.format(ext))]\n",
    "results_files"
   ]
  },
  {
   "cell_type": "code",
   "execution_count": 38,
   "metadata": {},
   "outputs": [
    {
     "data": {
      "text/plain": [
       "(['results/exp_5/mc_0.npy',\n",
       "  'results/exp_5/mc_4.npy',\n",
       "  'results/exp_5/mc_2.npy',\n",
       "  'results/exp_5/mc_3.npy',\n",
       "  'results/exp_5/mc_1.npy'],\n",
       " ['results/exp_5/rand_1.npy',\n",
       "  'results/exp_5/rand_0.npy',\n",
       "  'results/exp_5/rand_4.npy',\n",
       "  'results/exp_5/rand_3.npy',\n",
       "  'results/exp_5/rand_2.npy'],\n",
       " ['results/exp_5/bald_4.npy',\n",
       "  'results/exp_5/bald_3.npy',\n",
       "  'results/exp_5/bald_0.npy',\n",
       "  'results/exp_5/bald_1.npy',\n",
       "  'results/exp_5/bald_2.npy'])"
      ]
     },
     "execution_count": 38,
     "metadata": {},
     "output_type": "execute_result"
    }
   ],
   "source": [
    "mc_files = list(filter(lambda f: 'mc' in f , results_files))\n",
    "rand_files = list(filter(lambda f: 'rand' in f , results_files))\n",
    "bald_files = list(filter(lambda f: 'bald' in f , results_files))\n",
    "mc_files, rand_files, bald_files"
   ]
  },
  {
   "cell_type": "code",
   "execution_count": 39,
   "metadata": {},
   "outputs": [
    {
     "data": {
      "text/plain": [
       "(5, 20)"
      ]
     },
     "execution_count": 39,
     "metadata": {},
     "output_type": "execute_result"
    }
   ],
   "source": [
    "mc_results = np.array([np.load(f) for f in mc_files])\n",
    "mc_results.shape"
   ]
  },
  {
   "cell_type": "code",
   "execution_count": 40,
   "metadata": {},
   "outputs": [
    {
     "data": {
      "text/plain": [
       "(5, 20)"
      ]
     },
     "execution_count": 40,
     "metadata": {},
     "output_type": "execute_result"
    }
   ],
   "source": [
    "rand_results = np.array([np.load(f) for f in rand_files])\n",
    "rand_results.shape"
   ]
  },
  {
   "cell_type": "code",
   "execution_count": 41,
   "metadata": {},
   "outputs": [
    {
     "data": {
      "text/plain": [
       "(5, 20)"
      ]
     },
     "execution_count": 41,
     "metadata": {},
     "output_type": "execute_result"
    }
   ],
   "source": [
    "bald_results = np.array([np.load(f) for f in bald_files])\n",
    "bald_results.shape"
   ]
  },
  {
   "cell_type": "code",
   "execution_count": 42,
   "metadata": {},
   "outputs": [
    {
     "data": {
      "text/plain": [
       "array([0.6286473 , 0.6630244 , 0.6683218 , 0.72194254, 0.69125706,\n",
       "       0.72771215, 0.7604708 , 0.744887  , 0.78183067, 0.78384835,\n",
       "       0.78195244, 0.8010777 , 0.8006557 , 0.8065702 , 0.8077982 ,\n",
       "       0.82695854, 0.82087404, 0.82999516, 0.8361271 , 0.8526085 ],\n",
       "      dtype=float32)"
      ]
     },
     "execution_count": 42,
     "metadata": {},
     "output_type": "execute_result"
    }
   ],
   "source": [
    "mc_means = mc_results.mean(axis=0)\n",
    "mc_means"
   ]
  },
  {
   "cell_type": "code",
   "execution_count": 43,
   "metadata": {},
   "outputs": [
    {
     "data": {
      "text/plain": [
       "array([0.62703484, 0.66661775, 0.690332  , 0.7096992 , 0.7308665 ,\n",
       "       0.7529889 , 0.7733599 , 0.78065795, 0.7844855 , 0.78931564,\n",
       "       0.8073286 , 0.8048046 , 0.8100797 , 0.8067827 , 0.81858814,\n",
       "       0.819157  , 0.8362381 , 0.83164024, 0.840366  , 0.8468591 ],\n",
       "      dtype=float32)"
      ]
     },
     "execution_count": 43,
     "metadata": {},
     "output_type": "execute_result"
    }
   ],
   "source": [
    "rand_means = rand_results.mean(axis=0)\n",
    "rand_means"
   ]
  },
  {
   "cell_type": "code",
   "execution_count": 45,
   "metadata": {},
   "outputs": [
    {
     "data": {
      "text/plain": [
       "array([0.6358964 , 0.69283235, 0.70455337, 0.7249948 , 0.73383915,\n",
       "       0.7432403 , 0.75749195, 0.75856817, 0.7595541 , 0.78609383,\n",
       "       0.77218544, 0.79093057, 0.78899723, 0.80472296, 0.8070893 ,\n",
       "       0.8205892 , 0.8188976 , 0.846774  , 0.8430746 , 0.83707553],\n",
       "      dtype=float32)"
      ]
     },
     "execution_count": 45,
     "metadata": {},
     "output_type": "execute_result"
    }
   ],
   "source": [
    "bald_means = bald_results.mean(axis=0)\n",
    "bald_means"
   ]
  },
  {
   "cell_type": "code",
   "execution_count": 46,
   "metadata": {},
   "outputs": [
    {
     "data": {
      "image/png": "[encoded data removed]",
      "text/plain": [
       "<Figure size 432x288 with 1 Axes>"
      ]
     },
     "metadata": {
      "needs_background": "light"
     },
     "output_type": "display_data"
    }
   ],
   "source": [
    "plt.figure()\n",
    "plt.plot(range(5,25), mc_means, 'rd-', label='MC drop std')\n",
    "plt.plot(range(5,25), rand_means, 'bd-', label='Random')\n",
    "plt.plot(range(5,25), bald_means, 'gd-', label='BALD')\n",
    "plt.plot(range(5,25), np.ones(20) * 0.91, 'g-', label='Baseline')\n",
    "plt.xlabel('Labeled pool size')\n",
    "plt.ylabel('Mean Dice score')\n",
    "plt.title('Mean dice score by labeled pool size')\n",
    "plt.xticks(np.arange(5, 25, step=1))\n",
    "plt.legend()\n",
    "\n",
    "plt.savefig('results_mc.png')"
   ]
  },
  {
   "cell_type": "code",
   "execution_count": null,
   "metadata": {},
   "outputs": [],
   "source": []
  }
 ],
 "metadata": {
  "kernelspec": {
   "display_name": "Python 3",
   "language": "python",
   "name": "python3"
  },
  "language_info": {
   "codemirror_mode": {
    "name": "ipython",
    "version": 3
   },
   "file_extension": ".py",
   "mimetype": "text/x-python",
   "name": "python",
   "nbconvert_exporter": "python",
   "pygments_lexer": "ipython3",
   "version": "3.7.7"
  }
 },
 "nbformat": 4,
 "nbformat_minor": 4
}
