{
 "cells": [
  {
   "cell_type": "code",
   "execution_count": 1,
   "metadata": {},
   "outputs": [],
   "source": [
    "from pathlib import Path\n",
    "import numpy as np\n",
    "import matplotlib.pyplot as plt"
   ]
  },
  {
   "cell_type": "code",
   "execution_count": 2,
   "metadata": {},
   "outputs": [
    {
     "data": {
      "text/plain": [
       "['results/exp_4/rand_1.npy',\n",
       " 'results/exp_4/rand_0.npy',\n",
       " 'results/exp_4/rand_4.npy',\n",
       " 'results/exp_4/mc_0.npy',\n",
       " 'results/exp_4/mc_4.npy',\n",
       " 'results/exp_4/mc_2.npy',\n",
       " 'results/exp_4/rand_3.npy',\n",
       " 'results/exp_4/rand_2.npy',\n",
       " 'results/exp_4/mc_3.npy',\n",
       " 'results/exp_4/mc_1.npy']"
      ]
     },
     "execution_count": 2,
     "metadata": {},
     "output_type": "execute_result"
    }
   ],
   "source": [
    "results_dir = 'results/exp_4/'\n",
    "ext = 'npy'\n",
    "results_files = [str(path) for path in Path(results_dir).rglob('*.{}'.format(ext))]\n",
    "results_files"
   ]
  },
  {
   "cell_type": "code",
   "execution_count": 12,
   "metadata": {},
   "outputs": [
    {
     "data": {
      "text/plain": [
       "(['results/exp_4/mc_0.npy',\n",
       "  'results/exp_4/mc_4.npy',\n",
       "  'results/exp_4/mc_2.npy',\n",
       "  'results/exp_4/mc_3.npy',\n",
       "  'results/exp_4/mc_1.npy'],\n",
       " ['results/exp_4/rand_1.npy',\n",
       "  'results/exp_4/rand_0.npy',\n",
       "  'results/exp_4/rand_4.npy',\n",
       "  'results/exp_4/rand_3.npy',\n",
       "  'results/exp_4/rand_2.npy'])"
      ]
     },
     "execution_count": 12,
     "metadata": {},
     "output_type": "execute_result"
    }
   ],
   "source": [
    "mc_files = list(filter(lambda f: 'mc' in f , results_files))\n",
    "rand_files = list(filter(lambda f: 'rand' in f , results_files))\n",
    "mc_files, rand_files"
   ]
  },
  {
   "cell_type": "code",
   "execution_count": 4,
   "metadata": {},
   "outputs": [
    {
     "data": {
      "text/plain": [
       "(5, 20)"
      ]
     },
     "execution_count": 4,
     "metadata": {},
     "output_type": "execute_result"
    }
   ],
   "source": [
    "mc_results = np.array([np.load(f) for f in mc_files])\n",
    "mc_results.shape"
   ]
  },
  {
   "cell_type": "code",
   "execution_count": 5,
   "metadata": {},
   "outputs": [
    {
     "data": {
      "text/plain": [
       "(5, 20)"
      ]
     },
     "execution_count": 5,
     "metadata": {},
     "output_type": "execute_result"
    }
   ],
   "source": [
    "rand_results = np.array([np.load(f) for f in rand_files])\n",
    "rand_results.shape"
   ]
  },
  {
   "cell_type": "code",
   "execution_count": 6,
   "metadata": {},
   "outputs": [
    {
     "data": {
      "text/plain": [
       "array([0.61546814, 0.65086067, 0.6950572 , 0.7166194 , 0.7027223 ,\n",
       "       0.722628  , 0.73675567, 0.7523941 , 0.7577094 , 0.751932  ,\n",
       "       0.77367413, 0.7851672 , 0.775175  , 0.8053649 , 0.7914307 ,\n",
       "       0.80477685, 0.8161391 , 0.82001144, 0.83077735, 0.84046316],\n",
       "      dtype=float32)"
      ]
     },
     "execution_count": 6,
     "metadata": {},
     "output_type": "execute_result"
    }
   ],
   "source": [
    "mc_means = mc_results.mean(axis=0)\n",
    "mc_means"
   ]
  },
  {
   "cell_type": "code",
   "execution_count": 7,
   "metadata": {},
   "outputs": [
    {
     "data": {
      "text/plain": [
       "array([0.60993606, 0.67304313, 0.6864437 , 0.7177947 , 0.7535063 ,\n",
       "       0.7328876 , 0.7616404 , 0.7696557 , 0.783294  , 0.7919458 ,\n",
       "       0.7944992 , 0.7881883 , 0.81342095, 0.828849  , 0.8108245 ,\n",
       "       0.8310561 , 0.8177377 , 0.8409727 , 0.8537941 , 0.85082275],\n",
       "      dtype=float32)"
      ]
     },
     "execution_count": 7,
     "metadata": {},
     "output_type": "execute_result"
    }
   ],
   "source": [
    "rand_means = rand_results.mean(axis=0)\n",
    "rand_means"
   ]
  },
  {
   "cell_type": "code",
   "execution_count": 43,
   "metadata": {},
   "outputs": [
    {
     "data": {
      "image/png": "[encoded data removed]",
      "text/plain": [
       "<Figure size 432x288 with 1 Axes>"
      ]
     },
     "metadata": {
      "needs_background": "light"
     },
     "output_type": "display_data"
    }
   ],
   "source": [
    "plt.figure()\n",
    "plt.plot(range(5,25), mc_means, 'rd-', label='MC drop std')\n",
    "plt.plot(range(5,25), rand_means, 'bd-', label='Random')\n",
    "plt.plot(range(5,25), np.ones(20) * 0.91, 'g-', label='Baseline')\n",
    "plt.xlabel('Labeled pool size')\n",
    "plt.ylabel('Mean Dice score')\n",
    "plt.title('Mean dice score by labeled pool size')\n",
    "plt.xticks(np.arange(5, 25, step=1))\n",
    "plt.legend()\n",
    "\n",
    "plt.savefig('results_mc.png')"
   ]
  },
  {
   "cell_type": "code",
   "execution_count": null,
   "metadata": {},
   "outputs": [],
   "source": []
  }
 ],
 "metadata": {
  "kernelspec": {
   "display_name": "Python 3",
   "language": "python",
   "name": "python3"
  },
  "language_info": {
   "codemirror_mode": {
    "name": "ipython",
    "version": 3
   },
   "file_extension": ".py",
   "mimetype": "text/x-python",
   "name": "python",
   "nbconvert_exporter": "python",
   "pygments_lexer": "ipython3",
   "version": "3.7.7"
  }
 },
 "nbformat": 4,
 "nbformat_minor": 4
}
