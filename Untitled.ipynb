{
 "cells": [
  {
   "cell_type": "code",
   "execution_count": 1,
   "metadata": {},
   "outputs": [],
   "source": [
    "from pathlib import Path\n",
    "import numpy as np\n",
    "import matplotlib.pyplot as plt"
   ]
  },
  {
   "cell_type": "code",
   "execution_count": 2,
   "metadata": {},
   "outputs": [
    {
     "data": {
      "text/plain": [
       "['results/exp_8/rand_1.npy',\n",
       " 'results/exp_8/rand_0.npy',\n",
       " 'results/exp_8/bald_4.npy',\n",
       " 'results/exp_8/rand_4.npy',\n",
       " 'results/exp_8/mc_0.npy',\n",
       " 'results/exp_8/max_4.npy',\n",
       " 'results/exp_8/max_2.npy',\n",
       " 'results/exp_8/max_3.npy',\n",
       " 'results/exp_8/mc_4.npy',\n",
       " 'results/exp_8/bald_3.npy',\n",
       " 'results/exp_8/mc_2.npy',\n",
       " 'results/exp_8/max_1.npy',\n",
       " 'results/exp_8/bald_0.npy',\n",
       " 'results/exp_8/max_0.npy',\n",
       " 'results/exp_8/rand_3.npy',\n",
       " 'results/exp_8/rand_2.npy',\n",
       " 'results/exp_8/mc_3.npy',\n",
       " 'results/exp_8/bald_1.npy',\n",
       " 'results/exp_8/mc_1.npy',\n",
       " 'results/exp_8/bald_2.npy']"
      ]
     },
     "execution_count": 2,
     "metadata": {},
     "output_type": "execute_result"
    }
   ],
   "source": [
    "results_dir = 'results/exp_8/'\n",
    "ext = 'npy'\n",
    "results_files = [str(path) for path in Path(results_dir).rglob('*.{}'.format(ext))]\n",
    "results_files"
   ]
  },
  {
   "cell_type": "code",
   "execution_count": 3,
   "metadata": {},
   "outputs": [
    {
     "data": {
      "text/plain": [
       "(['results/exp_8/mc_0.npy',\n",
       "  'results/exp_8/mc_4.npy',\n",
       "  'results/exp_8/mc_2.npy',\n",
       "  'results/exp_8/mc_3.npy',\n",
       "  'results/exp_8/mc_1.npy'],\n",
       " ['results/exp_8/rand_1.npy',\n",
       "  'results/exp_8/rand_0.npy',\n",
       "  'results/exp_8/rand_4.npy',\n",
       "  'results/exp_8/rand_3.npy',\n",
       "  'results/exp_8/rand_2.npy'],\n",
       " ['results/exp_8/bald_4.npy',\n",
       "  'results/exp_8/bald_3.npy',\n",
       "  'results/exp_8/bald_0.npy',\n",
       "  'results/exp_8/bald_1.npy',\n",
       "  'results/exp_8/bald_2.npy'],\n",
       " ['results/exp_8/max_4.npy',\n",
       "  'results/exp_8/max_2.npy',\n",
       "  'results/exp_8/max_3.npy',\n",
       "  'results/exp_8/max_1.npy',\n",
       "  'results/exp_8/max_0.npy'])"
      ]
     },
     "execution_count": 3,
     "metadata": {},
     "output_type": "execute_result"
    }
   ],
   "source": [
    "mc_files = list(filter(lambda f: 'mc' in f , results_files))\n",
    "rand_files = list(filter(lambda f: 'rand' in f , results_files))\n",
    "bald_files = list(filter(lambda f: 'bald' in f , results_files))\n",
    "max_files = list(filter(lambda f: 'max' in f , results_files))\n",
    "\n",
    "mc_files, rand_files, bald_files, max_files"
   ]
  },
  {
   "cell_type": "code",
   "execution_count": 4,
   "metadata": {},
   "outputs": [
    {
     "data": {
      "text/plain": [
       "(5, 11)"
      ]
     },
     "execution_count": 4,
     "metadata": {},
     "output_type": "execute_result"
    }
   ],
   "source": [
    "mc_results = np.array([np.load(f) for f in mc_files])\n",
    "mc_results.shape"
   ]
  },
  {
   "cell_type": "code",
   "execution_count": 5,
   "metadata": {},
   "outputs": [
    {
     "data": {
      "text/plain": [
       "(5, 11)"
      ]
     },
     "execution_count": 5,
     "metadata": {},
     "output_type": "execute_result"
    }
   ],
   "source": [
    "rand_results = np.array([np.load(f) for f in rand_files])\n",
    "rand_results.shape"
   ]
  },
  {
   "cell_type": "code",
   "execution_count": 6,
   "metadata": {},
   "outputs": [
    {
     "data": {
      "text/plain": [
       "(5, 11)"
      ]
     },
     "execution_count": 6,
     "metadata": {},
     "output_type": "execute_result"
    }
   ],
   "source": [
    "bald_results = np.array([np.load(f) for f in bald_files])\n",
    "bald_results.shape"
   ]
  },
  {
   "cell_type": "code",
   "execution_count": 7,
   "metadata": {},
   "outputs": [
    {
     "data": {
      "text/plain": [
       "(5, 11)"
      ]
     },
     "execution_count": 7,
     "metadata": {},
     "output_type": "execute_result"
    }
   ],
   "source": [
    "max_results = np.array([np.load(f) for f in max_files])\n",
    "max_results.shape"
   ]
  },
  {
   "cell_type": "code",
   "execution_count": 8,
   "metadata": {},
   "outputs": [
    {
     "data": {
      "text/plain": [
       "array([0.5961078 , 0.6015769 , 0.69580734, 0.74983746, 0.7831051 ,\n",
       "       0.79429406, 0.808699  , 0.83232296, 0.85387784, 0.8586547 ,\n",
       "       0.86627483], dtype=float32)"
      ]
     },
     "execution_count": 8,
     "metadata": {},
     "output_type": "execute_result"
    }
   ],
   "source": [
    "mc_means = mc_results.mean(axis=0)\n",
    "mc_means"
   ]
  },
  {
   "cell_type": "code",
   "execution_count": 9,
   "metadata": {},
   "outputs": [
    {
     "data": {
      "text/plain": [
       "array([0.54657525, 0.6136256 , 0.6869346 , 0.77149194, 0.78690064,\n",
       "       0.8072599 , 0.80677235, 0.841835  , 0.8398684 , 0.8469251 ,\n",
       "       0.85185826], dtype=float32)"
      ]
     },
     "execution_count": 9,
     "metadata": {},
     "output_type": "execute_result"
    }
   ],
   "source": [
    "rand_means = rand_results.mean(axis=0)\n",
    "rand_means"
   ]
  },
  {
   "cell_type": "code",
   "execution_count": 10,
   "metadata": {},
   "outputs": [
    {
     "data": {
      "text/plain": [
       "array([0.56035113, 0.6278773 , 0.7351672 , 0.7680482 , 0.7881053 ,\n",
       "       0.8114991 , 0.8131874 , 0.818566  , 0.82954866, 0.8423929 ,\n",
       "       0.8416091 ], dtype=float32)"
      ]
     },
     "execution_count": 10,
     "metadata": {},
     "output_type": "execute_result"
    }
   ],
   "source": [
    "bald_means = bald_results.mean(axis=0)\n",
    "bald_means"
   ]
  },
  {
   "cell_type": "code",
   "execution_count": 11,
   "metadata": {},
   "outputs": [
    {
     "data": {
      "text/plain": [
       "array([0.5640956 , 0.6636591 , 0.7134649 , 0.7549358 , 0.7655684 ,\n",
       "       0.78302413, 0.8098008 , 0.830352  , 0.839071  , 0.8660967 ,\n",
       "       0.8592914 ], dtype=float32)"
      ]
     },
     "execution_count": 11,
     "metadata": {},
     "output_type": "execute_result"
    }
   ],
   "source": [
    "max_means = max_results.mean(axis=0)\n",
    "max_means"
   ]
  },
  {
   "cell_type": "code",
   "execution_count": 12,
   "metadata": {},
   "outputs": [
    {
     "data": {
      "text/plain": [
       "<matplotlib.legend.Legend at 0x7f701d574710>"
      ]
     },
     "execution_count": 12,
     "metadata": {},
     "output_type": "execute_result"
    },
    {
     "data": {
      "image/png": "[encoded data removed]",
      "text/plain": [
       "<Figure size 720x720 with 1 Axes>"
      ]
     },
     "metadata": {
      "needs_background": "light"
     },
     "output_type": "display_data"
    }
   ],
   "source": [
    "plt.figure(figsize=(10, 10))\n",
    "plt.plot(range(4,15), mc_means, 'rd-', label='MC drop std')\n",
    "plt.plot(range(4,15), rand_means, 'bd-', label='Random')\n",
    "plt.plot(range(4,15), bald_means, 'gd-', label='BALD')\n",
    "plt.plot(range(4,15), max_means, 'yd-', label='MAX')\n",
    "plt.plot(range(4,15), np.ones(11) * 0.91, 'g-', label='Baseline')\n",
    "plt.xlabel('Labeled pool size')\n",
    "plt.ylabel('Mean Dice score')\n",
    "plt.title('Mean dice score by labeled pool size')\n",
    "plt.xticks(np.arange(5, 15, step=1))\n",
    "plt.legend()\n",
    "\n",
    "# plt.savefig('results_mc.png')"
   ]
  },
  {
   "cell_type": "code",
   "execution_count": null,
   "metadata": {},
   "outputs": [],
   "source": []
  }
 ],
 "metadata": {
  "kernelspec": {
   "display_name": "Python 3",
   "language": "python",
   "name": "python3"
  },
  "language_info": {
   "codemirror_mode": {
    "name": "ipython",
    "version": 3
   },
   "file_extension": ".py",
   "mimetype": "text/x-python",
   "name": "python",
   "nbconvert_exporter": "python",
   "pygments_lexer": "ipython3",
   "version": "3.7.7"
  }
 },
 "nbformat": 4,
 "nbformat_minor": 4
}
